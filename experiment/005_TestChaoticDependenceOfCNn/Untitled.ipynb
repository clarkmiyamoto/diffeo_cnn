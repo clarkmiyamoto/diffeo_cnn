{
 "cells": [
  {
   "cell_type": "code",
   "execution_count": null,
   "id": "ce9cf4ce-1641-4a25-a481-1401b9dc68cc",
   "metadata": {},
   "outputs": [],
   "source": []
  }
 ],
 "metadata": {
  "kernelspec": {
   "display_name": "Python 3.10 (diffeo_cnn)",
   "language": "python",
   "name": "diffeo_cnn"
  },
  "language_info": {
   "codemirror_mode": {
    "name": "ipython",
    "version": 3
   },
   "file_extension": ".py",
   "mimetype": "text/x-python",
   "name": "python",
   "nbconvert_exporter": "python",
   "pygments_lexer": "ipython3",
   "version": "3.10.14"
  }
 },
 "nbformat": 4,
 "nbformat_minor": 5
}
