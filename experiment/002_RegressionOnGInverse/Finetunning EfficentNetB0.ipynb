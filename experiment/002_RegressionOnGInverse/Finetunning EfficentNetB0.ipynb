{
 "cells": [
  {
   "cell_type": "code",
   "execution_count": 1,
   "id": "df462952-f82d-4e8c-97f1-6c5b9c146f78",
   "metadata": {},
   "outputs": [],
   "source": [
    "import numpy as np\n",
    "from tqdm import tqdm\n",
    "\n",
    "import matplotlib.pyplot as plt"
   ]
  },
  {
   "cell_type": "code",
   "execution_count": 2,
   "id": "775fc3ad-1e70-427e-b6a9-f87dcf73d185",
   "metadata": {},
   "outputs": [
    {
     "name": "stdout",
     "output_type": "stream",
     "text": [
      "CUDA is available. PyTorch is running on the GPU.\n",
      "Device name: Quadro RTX 8000\n"
     ]
    }
   ],
   "source": [
    "import torch\n",
    "import torch.nn as nn\n",
    "import torch.optim as optim\n",
    "from torch.utils.data import DataLoader, Dataset, random_split\n",
    "from torch.cuda.amp import GradScaler, autocast\n",
    "import torch.nn.functional as F\n",
    "from torch.nn import Conv2d, BatchNorm2d, ReLU, Sigmoid\n",
    "\n",
    "from torchvision import models\n",
    "\n",
    "\n",
    "if torch.cuda.is_available():\n",
    "    print(\"CUDA is available. PyTorch is running on the GPU.\")\n",
    "    print(\"Device name:\", torch.cuda.get_device_name(0))\n",
    "else:\n",
    "    print(\"CUDA is not available. PyTorch is running on the CPU.\")"
   ]
  },
  {
   "cell_type": "markdown",
   "id": "93be8838-93cc-494f-8e4f-2ecc5983cf97",
   "metadata": {},
   "source": [
    "# Import Data"
   ]
  },
  {
   "cell_type": "code",
   "execution_count": 3,
   "id": "6d4f1e0b-5d9b-4f37-8fe3-5f0dfdfbe1a6",
   "metadata": {},
   "outputs": [],
   "source": [
    "target_layer = '09'\n",
    "\n",
    "data_dir = '/vast/xj2173/diffeo/data/temp_inv_data/'\n",
    "numbers = [f\"{i:02}\" for i in range(40)]\n",
    "data_name = [data_dir + f'15-100-4-4-3-224-224_image-00{i}_activation_layer-{target_layer}.pt' for i in numbers]\n",
    "\n",
    "target_layer = int(target_layer)"
   ]
  },
  {
   "cell_type": "code",
   "execution_count": 4,
   "id": "fb617333-c664-43f5-8f1c-93cd44990d63",
   "metadata": {},
   "outputs": [
    {
     "name": "stderr",
     "output_type": "stream",
     "text": [
      "100%|██████████| 40/40 [01:10<00:00,  1.77s/it]\n"
     ]
    },
    {
     "data": {
      "text/plain": [
       "torch.Size([40, 1500, 48, 56, 56])"
      ]
     },
     "execution_count": 4,
     "metadata": {},
     "output_type": "execute_result"
    }
   ],
   "source": [
    "# data[0] is the 0th picture, data[1] is the 1st picture, etc..\n",
    "data = [torch.load(file_name, map_location='cpu') for file_name in tqdm(data_name)]\n",
    "data = torch.stack(data, dim=0)\n",
    "data.shape"
   ]
  },
  {
   "cell_type": "markdown",
   "id": "35fa95d2-2ca7-43f0-87fe-0caaaec50f33",
   "metadata": {},
   "source": [
    "- 40 different images\n",
    "- 1500 different diffeos\n",
    "    - 15 diffeo strengths\n",
    "    - 100 individual diffeos per diffeo strength\n",
    "- 48 channels\n",
    "- 56 x 56 image"
   ]
  },
  {
   "cell_type": "code",
   "execution_count": 11,
   "id": "fbf990fa-e791-42cd-8210-206148d01c04",
   "metadata": {},
   "outputs": [],
   "source": [
    "target_channel = 1\n",
    "num_of_features_cutoff = 1500\n",
    "\n",
    "features = data[:, 1:, target_channel, :, :]\n",
    "pics, diffeo, size, _ = features.shape\n",
    "features = features.permute(1, 0, 2, 3)\n",
    "features = features.reshape(pics * diffeo, size, size)\n",
    "features = features[:num_of_features_cutoff, :, :]\n",
    "\n",
    "class NaiveInverseDiffeo(Dataset):\n",
    "    def __init__(self, transform=None):\n",
    "        self.labels = data[:, 0, target_channel, :, :]\n",
    "        self.num_pics = pics\n",
    "        \n",
    "    def __len__(self):\n",
    "        return int(features.shape[0])\n",
    "\n",
    "    def __getitem__(self, idx):\n",
    "        num_pics = self.num_pics\n",
    "        label = self.labels[idx % num_pics]\n",
    "        feature = features[idx]\n",
    "        \n",
    "        return feature, label\n",
    "\n",
    "\n",
    "dataset = NaiveInverseDiffeo()"
   ]
  },
  {
   "cell_type": "code",
   "execution_count": 12,
   "id": "378fe74f-e100-4354-9e7d-20dfec8dc40f",
   "metadata": {},
   "outputs": [
    {
     "data": {
      "text/plain": [
       "torch.Size([56, 56])"
      ]
     },
     "execution_count": 12,
     "metadata": {},
     "output_type": "execute_result"
    }
   ],
   "source": [
    "features[0].shape"
   ]
  },
  {
   "cell_type": "code",
   "execution_count": 13,
   "id": "ec05a15c-cf66-4b4e-9fa7-e1a68b26aa2b",
   "metadata": {},
   "outputs": [
    {
     "data": {
      "text/plain": [
       "torch.Size([56, 56])"
      ]
     },
     "execution_count": 13,
     "metadata": {},
     "output_type": "execute_result"
    }
   ],
   "source": [
    "dataset.labels[0].shape"
   ]
  },
  {
   "cell_type": "markdown",
   "id": "e7041cfb-b872-483d-9d69-848798d19320",
   "metadata": {},
   "source": [
    "# Objective\n",
    "\n",
    "We've experimentally confirmed:\n",
    "$$\n",
    "g_{naive}^{-1} \\star N_i (g \\cdot I) = N_i(I) + \\eta_i\n",
    "$$\n",
    "Where $g_{naive}^{-1}$ is just the inverse of $g$ using the $\\cdot$ algebra. So basically, it looks like the original but w/ some noise $\\eta_i$. \n",
    "\n",
    "Now the objective is to see if we can learn $\\eta_i$. Or rewritten in another way\n",
    "$$\n",
    "h^{-1} \\star g_{naive}^{-1} \\star  N_i (g \\cdot I) = N_i(I)\n",
    "$$\n",
    "We want to learn $h^{-1}$, s.t. the 2nd equation is true\n"
   ]
  },
  {
   "cell_type": "markdown",
   "id": "950ce2de-94cb-48d5-9028-5b7c4fa9fcc4",
   "metadata": {},
   "source": [
    "# Learning $h^{-1}$"
   ]
  },
  {
   "cell_type": "markdown",
   "id": "d988b757-6d70-4e86-ab1a-703e2a751534",
   "metadata": {},
   "source": [
    "- 40 different images\n",
    "- 15 diffeo strengths\n",
    "- 100 individual diffeos per diffeo strength\n",
    "- 48 channels\n",
    "- 56 x 56 image"
   ]
  },
  {
   "cell_type": "markdown",
   "id": "eeccc11b-6191-467a-b72a-c3d581dc3c5e",
   "metadata": {},
   "source": [
    "### Split Data"
   ]
  },
  {
   "cell_type": "code",
   "execution_count": 14,
   "id": "849b749c-f8a0-48c4-8342-f3126ccfcb75",
   "metadata": {},
   "outputs": [
    {
     "name": "stdout",
     "output_type": "stream",
     "text": [
      "cuda\n"
     ]
    }
   ],
   "source": [
    "device = torch.device('cuda' if torch.cuda.is_available() else 'cpu')\n",
    "print(device)"
   ]
  },
  {
   "cell_type": "code",
   "execution_count": 15,
   "id": "dc253ca7-35e5-4a1a-9ef3-03ec454e9cd8",
   "metadata": {},
   "outputs": [],
   "source": [
    "split = 0.8\n",
    "batch_size = 25\n",
    "\n",
    "train_size = int(split * len(dataset))\n",
    "val_size = len(dataset) - train_size\n",
    "train_dataset, val_dataset = random_split(dataset, [train_size, val_size])\n",
    "\n",
    "train_loader = DataLoader(dataset=train_dataset, batch_size=batch_size, shuffle=True)\n",
    "val_loader   = DataLoader(dataset=val_dataset,   batch_size=batch_size, shuffle=True)"
   ]
  },
  {
   "cell_type": "markdown",
   "id": "29f60cc2-86d4-42e0-b99e-06283cde6c2e",
   "metadata": {},
   "source": [
    "### Initalize Model"
   ]
  },
  {
   "cell_type": "code",
   "execution_count": 25,
   "id": "3c3e9c66-3b4e-42b2-b3a1-2686f02a4890",
   "metadata": {},
   "outputs": [],
   "source": [
    "# Load the pretrained EfficientNetB0 model\n",
    "model = models.efficientnet_b0(pretrained=True)\n",
    "\n",
    "## Get Nodes\n",
    "def flatten(array):\n",
    "    result = []\n",
    "    for element in array:\n",
    "        if hasattr(element, \"__iter__\"):\n",
    "            result.extend(flatten(element))\n",
    "        else:\n",
    "            result.append(element)\n",
    "    return result\n",
    "\n",
    "layers = list(model.children())\n",
    "layers_flat = flatten(layers)[:]"
   ]
  },
  {
   "cell_type": "code",
   "execution_count": 28,
   "id": "d0cb755d-eff6-4757-aed5-1d84f96646e8",
   "metadata": {},
   "outputs": [
    {
     "name": "stdout",
     "output_type": "stream",
     "text": [
      "[Conv2d(3, 32, kernel_size=(3, 3), stride=(2, 2), padding=(1, 1), bias=False), BatchNorm2d(32, eps=1e-05, momentum=0.1, affine=True, track_running_stats=True), SiLU(inplace=True), MBConv(\n",
      "  (block): Sequential(\n",
      "    (0): Conv2dNormActivation(\n",
      "      (0): Conv2d(32, 32, kernel_size=(3, 3), stride=(1, 1), padding=(1, 1), groups=32, bias=False)\n",
      "      (1): BatchNorm2d(32, eps=1e-05, momentum=0.1, affine=True, track_running_stats=True)\n",
      "      (2): SiLU(inplace=True)\n",
      "    )\n",
      "    (1): SqueezeExcitation(\n",
      "      (avgpool): AdaptiveAvgPool2d(output_size=1)\n",
      "      (fc1): Conv2d(32, 8, kernel_size=(1, 1), stride=(1, 1))\n",
      "      (fc2): Conv2d(8, 32, kernel_size=(1, 1), stride=(1, 1))\n",
      "      (activation): SiLU(inplace=True)\n",
      "      (scale_activation): Sigmoid()\n",
      "    )\n",
      "    (2): Conv2dNormActivation(\n",
      "      (0): Conv2d(32, 16, kernel_size=(1, 1), stride=(1, 1), bias=False)\n",
      "      (1): BatchNorm2d(16, eps=1e-05, momentum=0.1, affine=True, track_running_stats=True)\n",
      "    )\n",
      "  )\n",
      "  (stochastic_depth): StochasticDepth(p=0.0, mode=row)\n",
      "), MBConv(\n",
      "  (block): Sequential(\n",
      "    (0): Conv2dNormActivation(\n",
      "      (0): Conv2d(16, 96, kernel_size=(1, 1), stride=(1, 1), bias=False)\n",
      "      (1): BatchNorm2d(96, eps=1e-05, momentum=0.1, affine=True, track_running_stats=True)\n",
      "      (2): SiLU(inplace=True)\n",
      "    )\n",
      "    (1): Conv2dNormActivation(\n",
      "      (0): Conv2d(96, 96, kernel_size=(3, 3), stride=(2, 2), padding=(1, 1), groups=96, bias=False)\n",
      "      (1): BatchNorm2d(96, eps=1e-05, momentum=0.1, affine=True, track_running_stats=True)\n",
      "      (2): SiLU(inplace=True)\n",
      "    )\n",
      "    (2): SqueezeExcitation(\n",
      "      (avgpool): AdaptiveAvgPool2d(output_size=1)\n",
      "      (fc1): Conv2d(96, 4, kernel_size=(1, 1), stride=(1, 1))\n",
      "      (fc2): Conv2d(4, 96, kernel_size=(1, 1), stride=(1, 1))\n",
      "      (activation): SiLU(inplace=True)\n",
      "      (scale_activation): Sigmoid()\n",
      "    )\n",
      "    (3): Conv2dNormActivation(\n",
      "      (0): Conv2d(96, 24, kernel_size=(1, 1), stride=(1, 1), bias=False)\n",
      "      (1): BatchNorm2d(24, eps=1e-05, momentum=0.1, affine=True, track_running_stats=True)\n",
      "    )\n",
      "  )\n",
      "  (stochastic_depth): StochasticDepth(p=0.0125, mode=row)\n",
      "), MBConv(\n",
      "  (block): Sequential(\n",
      "    (0): Conv2dNormActivation(\n",
      "      (0): Conv2d(24, 144, kernel_size=(1, 1), stride=(1, 1), bias=False)\n",
      "      (1): BatchNorm2d(144, eps=1e-05, momentum=0.1, affine=True, track_running_stats=True)\n",
      "      (2): SiLU(inplace=True)\n",
      "    )\n",
      "    (1): Conv2dNormActivation(\n",
      "      (0): Conv2d(144, 144, kernel_size=(3, 3), stride=(1, 1), padding=(1, 1), groups=144, bias=False)\n",
      "      (1): BatchNorm2d(144, eps=1e-05, momentum=0.1, affine=True, track_running_stats=True)\n",
      "      (2): SiLU(inplace=True)\n",
      "    )\n",
      "    (2): SqueezeExcitation(\n",
      "      (avgpool): AdaptiveAvgPool2d(output_size=1)\n",
      "      (fc1): Conv2d(144, 6, kernel_size=(1, 1), stride=(1, 1))\n",
      "      (fc2): Conv2d(6, 144, kernel_size=(1, 1), stride=(1, 1))\n",
      "      (activation): SiLU(inplace=True)\n",
      "      (scale_activation): Sigmoid()\n",
      "    )\n",
      "    (3): Conv2dNormActivation(\n",
      "      (0): Conv2d(144, 24, kernel_size=(1, 1), stride=(1, 1), bias=False)\n",
      "      (1): BatchNorm2d(24, eps=1e-05, momentum=0.1, affine=True, track_running_stats=True)\n",
      "    )\n",
      "  )\n",
      "  (stochastic_depth): StochasticDepth(p=0.025, mode=row)\n",
      "), MBConv(\n",
      "  (block): Sequential(\n",
      "    (0): Conv2dNormActivation(\n",
      "      (0): Conv2d(24, 144, kernel_size=(1, 1), stride=(1, 1), bias=False)\n",
      "      (1): BatchNorm2d(144, eps=1e-05, momentum=0.1, affine=True, track_running_stats=True)\n",
      "      (2): SiLU(inplace=True)\n",
      "    )\n",
      "    (1): Conv2dNormActivation(\n",
      "      (0): Conv2d(144, 144, kernel_size=(5, 5), stride=(2, 2), padding=(2, 2), groups=144, bias=False)\n",
      "      (1): BatchNorm2d(144, eps=1e-05, momentum=0.1, affine=True, track_running_stats=True)\n",
      "      (2): SiLU(inplace=True)\n",
      "    )\n",
      "    (2): SqueezeExcitation(\n",
      "      (avgpool): AdaptiveAvgPool2d(output_size=1)\n",
      "      (fc1): Conv2d(144, 6, kernel_size=(1, 1), stride=(1, 1))\n",
      "      (fc2): Conv2d(6, 144, kernel_size=(1, 1), stride=(1, 1))\n",
      "      (activation): SiLU(inplace=True)\n",
      "      (scale_activation): Sigmoid()\n",
      "    )\n",
      "    (3): Conv2dNormActivation(\n",
      "      (0): Conv2d(144, 40, kernel_size=(1, 1), stride=(1, 1), bias=False)\n",
      "      (1): BatchNorm2d(40, eps=1e-05, momentum=0.1, affine=True, track_running_stats=True)\n",
      "    )\n",
      "  )\n",
      "  (stochastic_depth): StochasticDepth(p=0.037500000000000006, mode=row)\n",
      "), MBConv(\n",
      "  (block): Sequential(\n",
      "    (0): Conv2dNormActivation(\n",
      "      (0): Conv2d(40, 240, kernel_size=(1, 1), stride=(1, 1), bias=False)\n",
      "      (1): BatchNorm2d(240, eps=1e-05, momentum=0.1, affine=True, track_running_stats=True)\n",
      "      (2): SiLU(inplace=True)\n",
      "    )\n",
      "    (1): Conv2dNormActivation(\n",
      "      (0): Conv2d(240, 240, kernel_size=(5, 5), stride=(1, 1), padding=(2, 2), groups=240, bias=False)\n",
      "      (1): BatchNorm2d(240, eps=1e-05, momentum=0.1, affine=True, track_running_stats=True)\n",
      "      (2): SiLU(inplace=True)\n",
      "    )\n",
      "    (2): SqueezeExcitation(\n",
      "      (avgpool): AdaptiveAvgPool2d(output_size=1)\n",
      "      (fc1): Conv2d(240, 10, kernel_size=(1, 1), stride=(1, 1))\n",
      "      (fc2): Conv2d(10, 240, kernel_size=(1, 1), stride=(1, 1))\n",
      "      (activation): SiLU(inplace=True)\n",
      "      (scale_activation): Sigmoid()\n",
      "    )\n",
      "    (3): Conv2dNormActivation(\n",
      "      (0): Conv2d(240, 40, kernel_size=(1, 1), stride=(1, 1), bias=False)\n",
      "      (1): BatchNorm2d(40, eps=1e-05, momentum=0.1, affine=True, track_running_stats=True)\n",
      "    )\n",
      "  )\n",
      "  (stochastic_depth): StochasticDepth(p=0.05, mode=row)\n",
      "), MBConv(\n",
      "  (block): Sequential(\n",
      "    (0): Conv2dNormActivation(\n",
      "      (0): Conv2d(40, 240, kernel_size=(1, 1), stride=(1, 1), bias=False)\n",
      "      (1): BatchNorm2d(240, eps=1e-05, momentum=0.1, affine=True, track_running_stats=True)\n",
      "      (2): SiLU(inplace=True)\n",
      "    )\n",
      "    (1): Conv2dNormActivation(\n",
      "      (0): Conv2d(240, 240, kernel_size=(3, 3), stride=(2, 2), padding=(1, 1), groups=240, bias=False)\n",
      "      (1): BatchNorm2d(240, eps=1e-05, momentum=0.1, affine=True, track_running_stats=True)\n",
      "      (2): SiLU(inplace=True)\n",
      "    )\n",
      "    (2): SqueezeExcitation(\n",
      "      (avgpool): AdaptiveAvgPool2d(output_size=1)\n",
      "      (fc1): Conv2d(240, 10, kernel_size=(1, 1), stride=(1, 1))\n",
      "      (fc2): Conv2d(10, 240, kernel_size=(1, 1), stride=(1, 1))\n",
      "      (activation): SiLU(inplace=True)\n",
      "      (scale_activation): Sigmoid()\n",
      "    )\n",
      "    (3): Conv2dNormActivation(\n",
      "      (0): Conv2d(240, 80, kernel_size=(1, 1), stride=(1, 1), bias=False)\n",
      "      (1): BatchNorm2d(80, eps=1e-05, momentum=0.1, affine=True, track_running_stats=True)\n",
      "    )\n",
      "  )\n",
      "  (stochastic_depth): StochasticDepth(p=0.0625, mode=row)\n",
      "), MBConv(\n",
      "  (block): Sequential(\n",
      "    (0): Conv2dNormActivation(\n",
      "      (0): Conv2d(80, 480, kernel_size=(1, 1), stride=(1, 1), bias=False)\n",
      "      (1): BatchNorm2d(480, eps=1e-05, momentum=0.1, affine=True, track_running_stats=True)\n",
      "      (2): SiLU(inplace=True)\n",
      "    )\n",
      "    (1): Conv2dNormActivation(\n",
      "      (0): Conv2d(480, 480, kernel_size=(3, 3), stride=(1, 1), padding=(1, 1), groups=480, bias=False)\n",
      "      (1): BatchNorm2d(480, eps=1e-05, momentum=0.1, affine=True, track_running_stats=True)\n",
      "      (2): SiLU(inplace=True)\n",
      "    )\n",
      "    (2): SqueezeExcitation(\n",
      "      (avgpool): AdaptiveAvgPool2d(output_size=1)\n",
      "      (fc1): Conv2d(480, 20, kernel_size=(1, 1), stride=(1, 1))\n",
      "      (fc2): Conv2d(20, 480, kernel_size=(1, 1), stride=(1, 1))\n",
      "      (activation): SiLU(inplace=True)\n",
      "      (scale_activation): Sigmoid()\n",
      "    )\n",
      "    (3): Conv2dNormActivation(\n",
      "      (0): Conv2d(480, 80, kernel_size=(1, 1), stride=(1, 1), bias=False)\n",
      "      (1): BatchNorm2d(80, eps=1e-05, momentum=0.1, affine=True, track_running_stats=True)\n",
      "    )\n",
      "  )\n",
      "  (stochastic_depth): StochasticDepth(p=0.07500000000000001, mode=row)\n",
      ")]\n"
     ]
    }
   ],
   "source": [
    "print(layers_flat[: target_layer + 1])"
   ]
  },
  {
   "cell_type": "code",
   "execution_count": 29,
   "id": "b8635b3a-9c3d-4657-aca1-8ba2d31f78c0",
   "metadata": {},
   "outputs": [],
   "source": [
    "# Create a new model that ends at layer 13\n",
    "model_trunc = torch.nn.Sequential(*layers_flat[: target_layer + 1])"
   ]
  },
  {
   "cell_type": "code",
   "execution_count": null,
   "id": "085a8095-75d9-452e-8f1f-0585c0b84af1",
   "metadata": {},
   "outputs": [],
   "source": []
  }
 ],
 "metadata": {
  "kernelspec": {
   "display_name": "Python 3.10 (diffeo_cnn)",
   "language": "python",
   "name": "diffeo_cnn"
  },
  "language_info": {
   "codemirror_mode": {
    "name": "ipython",
    "version": 3
   },
   "file_extension": ".py",
   "mimetype": "text/x-python",
   "name": "python",
   "nbconvert_exporter": "python",
   "pygments_lexer": "ipython3",
   "version": "3.10.14"
  }
 },
 "nbformat": 4,
 "nbformat_minor": 5
}
