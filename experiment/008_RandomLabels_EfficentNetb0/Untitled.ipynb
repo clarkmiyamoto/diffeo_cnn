{
 "cells": [
  {
   "cell_type": "code",
   "execution_count": 1,
   "id": "039bb6f5-f20a-4541-9067-374a3ee34a53",
   "metadata": {},
   "outputs": [
    {
     "name": "stdout",
     "output_type": "stream",
     "text": [
      "Logging into runs/imagenet1k_corrupt1_efficentnet-b0_lr0.1_mmt0.9_Wd0.0001_NoAug...\n",
      "/ext3/miniconda3/lib/python3.12/site-packages/torchvision/models/_utils.py:208: UserWarning: The parameter 'pretrained' is deprecated since 0.13 and may be removed in the future, please use 'weights' instead.\n",
      "  warnings.warn(\n",
      "/ext3/miniconda3/lib/python3.12/site-packages/torchvision/models/_utils.py:223: UserWarning: Arguments other than a weight enum or `None` for 'weights' are deprecated since 0.13 and may be removed in the future. The current behavior is equivalent to passing `weights=None`.\n",
      "  warnings.warn(msg)\n",
      "Traceback (most recent call last):\n",
      "  File \"/scratch/cm6627/diffeo_cnn/experiment/008_RandomLabels_EfficentNetb0/./train.py\", line 269, in <module>\n",
      "    main()\n",
      "  File \"/scratch/cm6627/diffeo_cnn/experiment/008_RandomLabels_EfficentNetb0/./train.py\", line 263, in main\n",
      "    model = get_model(args)\n",
      "            ^^^^^^^^^^^^^^^\n",
      "  File \"/scratch/cm6627/diffeo_cnn/experiment/008_RandomLabels_EfficentNetb0/./train.py\", line 98, in get_model\n",
      "    model = model.cuda()\n",
      "            ^^^^^^^^^^^^\n",
      "  File \"/ext3/miniconda3/lib/python3.12/site-packages/torch/nn/modules/module.py\", line 915, in cuda\n",
      "    return self._apply(lambda t: t.cuda(device))\n",
      "           ^^^^^^^^^^^^^^^^^^^^^^^^^^^^^^^^^^^^^\n",
      "  File \"/ext3/miniconda3/lib/python3.12/site-packages/torch/nn/modules/module.py\", line 779, in _apply\n",
      "    module._apply(fn)\n",
      "  File \"/ext3/miniconda3/lib/python3.12/site-packages/torch/nn/modules/module.py\", line 779, in _apply\n",
      "    module._apply(fn)\n",
      "  File \"/ext3/miniconda3/lib/python3.12/site-packages/torch/nn/modules/module.py\", line 779, in _apply\n",
      "    module._apply(fn)\n",
      "  File \"/ext3/miniconda3/lib/python3.12/site-packages/torch/nn/modules/module.py\", line 804, in _apply\n",
      "    param_applied = fn(param)\n",
      "                    ^^^^^^^^^\n",
      "  File \"/ext3/miniconda3/lib/python3.12/site-packages/torch/nn/modules/module.py\", line 915, in <lambda>\n",
      "    return self._apply(lambda t: t.cuda(device))\n",
      "                                 ^^^^^^^^^^^^^^\n",
      "  File \"/ext3/miniconda3/lib/python3.12/site-packages/torch/cuda/__init__.py\", line 293, in _lazy_init\n",
      "    torch._C._cuda_init()\n",
      "RuntimeError: Found no NVIDIA driver on your system. Please check that you have an NVIDIA GPU and installed a driver from http://www.nvidia.com/Download/index.aspx\n"
     ]
    }
   ],
   "source": [
    "!python ./train.py --data=imagenet1k --label-corrupt-prob=1.0  --arch=efficentnet-b0"
   ]
  },
  {
   "cell_type": "code",
   "execution_count": 20,
   "id": "d569b4a1-6d69-4784-83f1-5ee86c63dbe9",
   "metadata": {},
   "outputs": [
    {
     "ename": "RuntimeError",
     "evalue": "Found no NVIDIA driver on your system. Please check that you have an NVIDIA GPU and installed a driver from http://www.nvidia.com/Download/index.aspx",
     "output_type": "error",
     "traceback": [
      "\u001b[0;31m---------------------------------------------------------------------------\u001b[0m",
      "\u001b[0;31mRuntimeError\u001b[0m                              Traceback (most recent call last)",
      "Cell \u001b[0;32mIn[20], line 2\u001b[0m\n\u001b[1;32m      1\u001b[0m \u001b[38;5;28;01mimport\u001b[39;00m \u001b[38;5;21;01mtorch\u001b[39;00m\n\u001b[0;32m----> 2\u001b[0m torch\u001b[38;5;241m.\u001b[39mcuda\u001b[38;5;241m.\u001b[39mcurrent_device()\n",
      "File \u001b[0;32m/ext3/miniconda3/lib/python3.12/site-packages/torch/cuda/__init__.py:778\u001b[0m, in \u001b[0;36mcurrent_device\u001b[0;34m()\u001b[0m\n\u001b[1;32m    776\u001b[0m \u001b[38;5;28;01mdef\u001b[39;00m \u001b[38;5;21mcurrent_device\u001b[39m() \u001b[38;5;241m-\u001b[39m\u001b[38;5;241m>\u001b[39m \u001b[38;5;28mint\u001b[39m:\n\u001b[1;32m    777\u001b[0m \u001b[38;5;250m    \u001b[39m\u001b[38;5;124mr\u001b[39m\u001b[38;5;124;03m\"\"\"Return the index of a currently selected device.\"\"\"\u001b[39;00m\n\u001b[0;32m--> 778\u001b[0m     _lazy_init()\n\u001b[1;32m    779\u001b[0m     \u001b[38;5;28;01mreturn\u001b[39;00m torch\u001b[38;5;241m.\u001b[39m_C\u001b[38;5;241m.\u001b[39m_cuda_getDevice()\n",
      "File \u001b[0;32m/ext3/miniconda3/lib/python3.12/site-packages/torch/cuda/__init__.py:293\u001b[0m, in \u001b[0;36m_lazy_init\u001b[0;34m()\u001b[0m\n\u001b[1;32m    291\u001b[0m \u001b[38;5;28;01mif\u001b[39;00m \u001b[38;5;124m\"\u001b[39m\u001b[38;5;124mCUDA_MODULE_LOADING\u001b[39m\u001b[38;5;124m\"\u001b[39m \u001b[38;5;129;01mnot\u001b[39;00m \u001b[38;5;129;01min\u001b[39;00m os\u001b[38;5;241m.\u001b[39menviron:\n\u001b[1;32m    292\u001b[0m     os\u001b[38;5;241m.\u001b[39menviron[\u001b[38;5;124m\"\u001b[39m\u001b[38;5;124mCUDA_MODULE_LOADING\u001b[39m\u001b[38;5;124m\"\u001b[39m] \u001b[38;5;241m=\u001b[39m \u001b[38;5;124m\"\u001b[39m\u001b[38;5;124mLAZY\u001b[39m\u001b[38;5;124m\"\u001b[39m\n\u001b[0;32m--> 293\u001b[0m torch\u001b[38;5;241m.\u001b[39m_C\u001b[38;5;241m.\u001b[39m_cuda_init()\n\u001b[1;32m    294\u001b[0m \u001b[38;5;66;03m# Some of the queued calls may reentrantly call _lazy_init();\u001b[39;00m\n\u001b[1;32m    295\u001b[0m \u001b[38;5;66;03m# we need to just return without initializing in that case.\u001b[39;00m\n\u001b[1;32m    296\u001b[0m \u001b[38;5;66;03m# However, we must not let any *other* threads in!\u001b[39;00m\n\u001b[1;32m    297\u001b[0m _tls\u001b[38;5;241m.\u001b[39mis_initializing \u001b[38;5;241m=\u001b[39m \u001b[38;5;28;01mTrue\u001b[39;00m\n",
      "\u001b[0;31mRuntimeError\u001b[0m: Found no NVIDIA driver on your system. Please check that you have an NVIDIA GPU and installed a driver from http://www.nvidia.com/Download/index.aspx"
     ]
    }
   ],
   "source": [
    "import torch\n",
    "torch.cuda.current_device()"
   ]
  },
  {
   "cell_type": "code",
   "execution_count": null,
   "id": "600b3dbf-ad93-42ed-bfa9-eeab0bd0b022",
   "metadata": {},
   "outputs": [],
   "source": []
  }
 ],
 "metadata": {
  "kernelspec": {
   "display_name": "diffeo_cnn",
   "language": "python",
   "name": "diffeo_cnn"
  },
  "language_info": {
   "codemirror_mode": {
    "name": "ipython",
    "version": 3
   },
   "file_extension": ".py",
   "mimetype": "text/x-python",
   "name": "python",
   "nbconvert_exporter": "python",
   "pygments_lexer": "ipython3",
   "version": "3.12.4"
  }
 },
 "nbformat": 4,
 "nbformat_minor": 5
}
